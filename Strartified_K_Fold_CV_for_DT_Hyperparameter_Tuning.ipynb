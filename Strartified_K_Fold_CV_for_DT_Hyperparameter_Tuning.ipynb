{
  "nbformat": 4,
  "nbformat_minor": 0,
  "metadata": {
    "kernelspec": {
      "name": "python3",
      "display_name": "Python 3",
      "language": "python"
    },
    "language_info": {
      "mimetype": "text/x-python",
      "nbconvert_exporter": "python",
      "name": "python",
      "pygments_lexer": "ipython3",
      "version": "3.5.4",
      "file_extension": ".py",
      "codemirror_mode": {
        "version": 3,
        "name": "ipython"
      }
    },
    "colab": {
      "name": "Strartified K-Fold CV for DT Hyperparameter Tuning",
      "provenance": [],
      "collapsed_sections": []
    }
  },
  "cells": [
    {
      "cell_type": "code",
      "metadata": {
        "trusted": true,
        "id": "YDHybLjyzFAP"
      },
      "source": [
        "import datascience\n",
        "import numpy as np\n",
        "import graphviz\n",
        "\n",
        "from datascience import *\n",
        "from sklearn.feature_extraction.text import CountVectorizer\n",
        "from sklearn.model_selection import train_test_split\n",
        "from sklearn.pipeline import Pipeline\n",
        "from sklearn import tree\n",
        "from sklearn.tree import DecisionTreeClassifier\n",
        "from sklearn import metrics \n",
        "\n",
        "\n",
        "from sklearn.metrics import f1_score\n",
        "from sklearn.metrics import precision_score\n",
        "from sklearn.metrics import recall_score\n",
        "from sklearn.model_selection import cross_val_score\n",
        "from sklearn.model_selection import cross_validate\n",
        "from sklearn.base import ClassifierMixin\n",
        "from sklearn.model_selection import StratifiedKFold\n",
        "from sklearn.metrics import precision_recall_fscore_support\n",
        "\n",
        "import pandas as pd\n",
        "import numpy as np\n",
        "\n",
        "\n",
        "import os\n",
        "os.environ[\"PATH\"] += os.pathsep + 'C:/Program Files (x86)/Graphviz2.38/bin/'"
      ],
      "execution_count": 2,
      "outputs": []
    },
    {
      "cell_type": "code",
      "metadata": {
        "trusted": true,
        "id": "x5AbEEUMrnKZ"
      },
      "source": [
        "import matplotlib.pyplot as plt\n",
        "from matplotlib.pyplot import *"
      ],
      "execution_count": 3,
      "outputs": []
    },
    {
      "cell_type": "code",
      "metadata": {
        "trusted": true,
        "id": "rR99vkTMrvGi",
        "colab": {
          "base_uri": "https://localhost:8080/"
        },
        "outputId": "f24f251a-f578-419c-b8af-22b6691f8c7a"
      },
      "source": [
        "matplotlib.use('Agg', warn=False)\n",
        "%matplotlib inline\n",
        "import matplotlib.pyplot as plots\n",
        "plots.style.use('fivethirtyeight')\n",
        "\n",
        "import warnings\n",
        "warnings.simplefilter(action=\"ignore\", category=FutureWarning)"
      ],
      "execution_count": 4,
      "outputs": [
        {
          "output_type": "stream",
          "name": "stderr",
          "text": [
            "/usr/local/lib/python3.7/dist-packages/ipykernel_launcher.py:1: MatplotlibDeprecationWarning: The 'warn' parameter of use() is deprecated since Matplotlib 3.1 and will be removed in 3.3.  If any parameter follows 'warn', they should be pass as keyword, not positionally.\n",
            "  \"\"\"Entry point for launching an IPython kernel.\n"
          ]
        }
      ]
    },
    {
      "cell_type": "code",
      "metadata": {
        "id": "u9IRGZ6GPIyT",
        "colab": {
          "base_uri": "https://localhost:8080/"
        },
        "outputId": "717075af-501f-466e-82de-1ea691c33098"
      },
      "source": [
        "from google.colab import drive\n",
        "drive.mount('/content/drive')"
      ],
      "execution_count": null,
      "outputs": [
        {
          "output_type": "stream",
          "text": [
            "Drive already mounted at /content/drive; to attempt to forcibly remount, call drive.mount(\"/content/drive\", force_remount=True).\n"
          ],
          "name": "stdout"
        }
      ]
    },
    {
      "cell_type": "code",
      "metadata": {
        "id": "93Msrl_OQO7s",
        "colab": {
          "base_uri": "https://localhost:8080/"
        },
        "outputId": "a81dff52-9507-4f06-a366-8005a41a02f9"
      },
      "source": [
        "!ls /content/drive/My\\ Drive/DS200Labs/"
      ],
      "execution_count": null,
      "outputs": [
        {
          "output_type": "stream",
          "text": [
            "'???'\t\t\t\t\t    IMDB5000movies.csv\n",
            " BC_10_2\t\t\t\t   '???.pdf'\n",
            " BC_10_2.pdf\t\t\t\t    player_data\n",
            " Ben-NE-9-10-2015-pass-6.csv\t\t    player_data.csv\n",
            " Ben_pass_5_2\t\t\t\t    player_data.pdf\n",
            " Ben_pass_5_2.pdf\t\t\t    salary_data.csv\n",
            " breast-cancer-wisconsin-data-windCSV.csv   SFSalaries2011_2014.csv\n",
            " BreatCancerFinal.csv\t\t\t    Tweets\n",
            " faithful.csv\n"
          ],
          "name": "stdout"
        }
      ]
    },
    {
      "cell_type": "code",
      "metadata": {
        "id": "czVKB6kbQXe0",
        "colab": {
          "base_uri": "https://localhost:8080/",
          "height": 261
        },
        "outputId": "8ad07885-f11a-4293-9228-543b48cdb8c0"
      },
      "source": [
        "path= \"/content/drive/My Drive/DS200Labs/BreatCancerFinal.csv\"\n",
        "BC_table = Table.read_table(path)\n",
        "BC_table.show(5)"
      ],
      "execution_count": null,
      "outputs": [
        {
          "output_type": "display_data",
          "data": {
            "text/html": [
              "<table border=\"1\" class=\"dataframe\">\n",
              "    <thead>\n",
              "        <tr>\n",
              "            <th>radius_mean</th> <th>texture_mean</th> <th>perimeter_mean</th> <th>area_mean</th> <th>smoothness_mean</th> <th>compactness_mean</th> <th>concavity_mean</th> <th>concave points_mean</th> <th>symmetry_mean</th> <th>fractal_dimension_mean</th> <th>radius_se</th> <th>texture_se</th> <th>perimeter_se</th> <th>area_se</th> <th>smoothness_se</th> <th>compactness_se</th> <th>concavity_se</th> <th>concave points_se</th> <th>symmetry_se</th> <th>fractal_dimension_se</th> <th>radius_worst</th> <th>texture_worst</th> <th>perimeter_worst</th> <th>area_worst</th> <th>smoothness_worst</th> <th>compactness_worst</th> <th>concavity_worst</th> <th>concave points_worst</th> <th>symmetry_worst</th> <th>fractal_dimension_worst</th> <th>classification</th>\n",
              "        </tr>\n",
              "    </thead>\n",
              "    <tbody>\n",
              "        <tr>\n",
              "            <td>17.99      </td> <td>10.38       </td> <td>122.8         </td> <td>1001     </td> <td>0.1184         </td> <td>0.2776          </td> <td>0.3001        </td> <td>0.1471             </td> <td>0.2419       </td> <td>0.07871               </td> <td>1.095    </td> <td>0.9053    </td> <td>8.589       </td> <td>153.4  </td> <td>0.006399     </td> <td>0.04904       </td> <td>0.05373     </td> <td>0.01587          </td> <td>0.03003    </td> <td>0.006193            </td> <td>25.38       </td> <td>17.33        </td> <td>184.6          </td> <td>2019      </td> <td>0.1622          </td> <td>0.6656           </td> <td>0.7119         </td> <td>0.2654              </td> <td>0.4601        </td> <td>0.1189                 </td> <td>1             </td>\n",
              "        </tr>\n",
              "        <tr>\n",
              "            <td>20.57      </td> <td>17.77       </td> <td>132.9         </td> <td>1326     </td> <td>0.08474        </td> <td>0.07864         </td> <td>0.0869        </td> <td>0.07017            </td> <td>0.1812       </td> <td>0.05667               </td> <td>0.5435   </td> <td>0.7339    </td> <td>3.398       </td> <td>74.08  </td> <td>0.005225     </td> <td>0.01308       </td> <td>0.0186      </td> <td>0.0134           </td> <td>0.01389    </td> <td>0.003532            </td> <td>24.99       </td> <td>23.41        </td> <td>158.8          </td> <td>1956      </td> <td>0.1238          </td> <td>0.1866           </td> <td>0.2416         </td> <td>0.186               </td> <td>0.275         </td> <td>0.08902                </td> <td>1             </td>\n",
              "        </tr>\n",
              "        <tr>\n",
              "            <td>19.69      </td> <td>21.25       </td> <td>130           </td> <td>1203     </td> <td>0.1096         </td> <td>0.1599          </td> <td>0.1974        </td> <td>0.1279             </td> <td>0.2069       </td> <td>0.05999               </td> <td>0.7456   </td> <td>0.7869    </td> <td>4.585       </td> <td>94.03  </td> <td>0.00615      </td> <td>0.04006       </td> <td>0.03832     </td> <td>0.02058          </td> <td>0.0225     </td> <td>0.004571            </td> <td>23.57       </td> <td>25.53        </td> <td>152.5          </td> <td>1709      </td> <td>0.1444          </td> <td>0.4245           </td> <td>0.4504         </td> <td>0.243               </td> <td>0.3613        </td> <td>0.08758                </td> <td>1             </td>\n",
              "        </tr>\n",
              "        <tr>\n",
              "            <td>11.42      </td> <td>20.38       </td> <td>77.58         </td> <td>386.1    </td> <td>0.1425         </td> <td>0.2839          </td> <td>0.2414        </td> <td>0.1052             </td> <td>0.2597       </td> <td>0.09744               </td> <td>0.4956   </td> <td>1.156     </td> <td>3.445       </td> <td>27.23  </td> <td>0.00911      </td> <td>0.07458       </td> <td>0.05661     </td> <td>0.01867          </td> <td>0.05963    </td> <td>0.009208            </td> <td>14.91       </td> <td>26.5         </td> <td>98.87          </td> <td>567.7     </td> <td>0.2098          </td> <td>0.8663           </td> <td>0.6869         </td> <td>0.2575              </td> <td>0.6638        </td> <td>0.173                  </td> <td>1             </td>\n",
              "        </tr>\n",
              "        <tr>\n",
              "            <td>20.29      </td> <td>14.34       </td> <td>135.1         </td> <td>1297     </td> <td>0.1003         </td> <td>0.1328          </td> <td>0.198         </td> <td>0.1043             </td> <td>0.1809       </td> <td>0.05883               </td> <td>0.7572   </td> <td>0.7813    </td> <td>5.438       </td> <td>94.44  </td> <td>0.01149      </td> <td>0.02461       </td> <td>0.05688     </td> <td>0.01885          </td> <td>0.01756    </td> <td>0.005115            </td> <td>22.54       </td> <td>16.67        </td> <td>152.2          </td> <td>1575      </td> <td>0.1374          </td> <td>0.205            </td> <td>0.4            </td> <td>0.1625              </td> <td>0.2364        </td> <td>0.07678                </td> <td>1             </td>\n",
              "        </tr>\n",
              "    </tbody>\n",
              "</table>\n",
              "<p>... (564 rows omitted)</p>"
            ],
            "text/plain": [
              "<IPython.core.display.HTML object>"
            ]
          },
          "metadata": {
            "tags": []
          }
        }
      ]
    },
    {
      "cell_type": "code",
      "metadata": {
        "id": "Igg23233JoDh",
        "colab": {
          "base_uri": "https://localhost:8080/"
        },
        "outputId": "5bac6ce6-e256-424f-c846-aa6bc60cf222"
      },
      "source": [
        "BC_feature_names= BC_table.labels\n",
        "print(BC_feature_names)\n",
        "BC_table.num_columns"
      ],
      "execution_count": null,
      "outputs": [
        {
          "output_type": "stream",
          "text": [
            "('radius_mean', 'texture_mean', 'perimeter_mean', 'area_mean', 'smoothness_mean', 'compactness_mean', 'concavity_mean', 'concave points_mean', 'symmetry_mean', 'fractal_dimension_mean', 'radius_se', 'texture_se', 'perimeter_se', 'area_se', 'smoothness_se', 'compactness_se', 'concavity_se', 'concave points_se', 'symmetry_se', 'fractal_dimension_se', 'radius_worst', 'texture_worst', 'perimeter_worst', 'area_worst', 'smoothness_worst', 'compactness_worst', 'concavity_worst', 'concave points_worst', 'symmetry_worst', 'fractal_dimension_worst', 'classification')\n"
          ],
          "name": "stdout"
        },
        {
          "output_type": "execute_result",
          "data": {
            "text/plain": [
              "31"
            ]
          },
          "metadata": {
            "tags": []
          },
          "execution_count": 70
        }
      ]
    },
    {
      "cell_type": "code",
      "metadata": {
        "id": "nQdgd6b0KRLd",
        "colab": {
          "base_uri": "https://localhost:8080/"
        },
        "outputId": "94e36683-67c3-4ab3-f897-e4f12f21382c"
      },
      "source": [
        "# Because the last column is 'classification', which is NOT a feture, but the model's prediction variable, therefore we need to extract the first 30 columns as the list of feature names.\n",
        "BC_feature_names = BC_feature_names[0:30]\n",
        "print(BC_feature_names)"
      ],
      "execution_count": null,
      "outputs": [
        {
          "output_type": "stream",
          "text": [
            "('radius_mean', 'texture_mean', 'perimeter_mean', 'area_mean', 'smoothness_mean', 'compactness_mean', 'concavity_mean', 'concave points_mean', 'symmetry_mean', 'fractal_dimension_mean', 'radius_se', 'texture_se', 'perimeter_se', 'area_se', 'smoothness_se', 'compactness_se', 'concavity_se', 'concave points_se', 'symmetry_se', 'fractal_dimension_se', 'radius_worst', 'texture_worst', 'perimeter_worst', 'area_worst', 'smoothness_worst', 'compactness_worst', 'concavity_worst', 'concave points_worst', 'symmetry_worst', 'fractal_dimension_worst')\n"
          ],
          "name": "stdout"
        }
      ]
    },
    {
      "cell_type": "code",
      "metadata": {
        "id": "SlYk-HDbLbyY"
      },
      "source": [
        "# Convert the Breast Cancer Final Table to a Data Frame using .to_df method of Tables in datascience module.\n",
        "BC_DF= BC_table.to_df()"
      ],
      "execution_count": null,
      "outputs": []
    },
    {
      "cell_type": "code",
      "metadata": {
        "id": "htzy_9oHMVpU",
        "colab": {
          "base_uri": "https://localhost:8080/"
        },
        "outputId": "42d39efd-8243-497b-e248-bd084139e0a4"
      },
      "source": [
        "BC_features = BC_DF.values[:, 0:30]\n",
        "print(BC_features)"
      ],
      "execution_count": null,
      "outputs": [
        {
          "output_type": "stream",
          "text": [
            "[[1.799e+01 1.038e+01 1.228e+02 ... 2.654e-01 4.601e-01 1.189e-01]\n",
            " [2.057e+01 1.777e+01 1.329e+02 ... 1.860e-01 2.750e-01 8.902e-02]\n",
            " [1.969e+01 2.125e+01 1.300e+02 ... 2.430e-01 3.613e-01 8.758e-02]\n",
            " ...\n",
            " [1.405e+01 2.715e+01 9.138e+01 ... 1.048e-01 2.250e-01 8.321e-02]\n",
            " [1.120e+01 2.937e+01 7.067e+01 ... 0.000e+00 1.566e-01 5.905e-02]\n",
            " [7.760e+00 2.454e+01 4.792e+01 ... 0.000e+00 2.871e-01 7.039e-02]]\n"
          ],
          "name": "stdout"
        }
      ]
    },
    {
      "cell_type": "code",
      "metadata": {
        "id": "2WJp2EqWMrqL",
        "colab": {
          "base_uri": "https://localhost:8080/"
        },
        "outputId": "9b3dc933-6da2-4f3a-cb57-e2cbda35b898"
      },
      "source": [
        "BC_classification = BC_DF.values[:, 30]\n",
        "print(BC_classification)\n",
        "type(BC_classification)"
      ],
      "execution_count": null,
      "outputs": [
        {
          "output_type": "stream",
          "text": [
            "[1. 1. 1. 1. 1. 1. 1. 1. 1. 1. 1. 1. 1. 1. 1. 1. 1. 1. 1. 1. 1. 1. 1. 1.\n",
            " 1. 1. 1. 1. 1. 1. 1. 1. 1. 1. 1. 1. 1. 1. 1. 1. 1. 1. 1. 1. 1. 1. 1. 1.\n",
            " 1. 1. 1. 1. 1. 1. 1. 1. 1. 1. 1. 1. 1. 1. 1. 1. 1. 1. 1. 1. 1. 1. 1. 1.\n",
            " 1. 1. 1. 1. 1. 1. 1. 1. 1. 1. 1. 1. 1. 1. 1. 1. 1. 1. 1. 1. 1. 1. 1. 1.\n",
            " 1. 1. 1. 1. 1. 1. 1. 1. 1. 1. 1. 1. 1. 1. 1. 1. 1. 1. 1. 1. 1. 1. 1. 1.\n",
            " 1. 1. 1. 1. 1. 1. 1. 1. 1. 1. 1. 1. 1. 1. 1. 1. 1. 1. 1. 1. 1. 1. 1. 1.\n",
            " 1. 1. 1. 1. 1. 1. 1. 1. 1. 1. 1. 1. 1. 1. 1. 1. 1. 1. 1. 1. 1. 1. 1. 1.\n",
            " 1. 1. 1. 1. 1. 1. 1. 1. 1. 1. 1. 1. 1. 1. 1. 1. 1. 1. 1. 1. 1. 1. 1. 1.\n",
            " 1. 1. 1. 1. 1. 1. 1. 1. 1. 1. 1. 1. 1. 1. 1. 1. 1. 1. 1. 1. 0. 0. 0. 0.\n",
            " 0. 0. 0. 0. 0. 0. 0. 0. 0. 0. 0. 0. 0. 0. 0. 0. 0. 0. 0. 0. 0. 0. 0. 0.\n",
            " 0. 0. 0. 0. 0. 0. 0. 0. 0. 0. 0. 0. 0. 0. 0. 0. 0. 0. 0. 0. 0. 0. 0. 0.\n",
            " 0. 0. 0. 0. 0. 0. 0. 0. 0. 0. 0. 0. 0. 0. 0. 0. 0. 0. 0. 0. 0. 0. 0. 0.\n",
            " 0. 0. 0. 0. 0. 0. 0. 0. 0. 0. 0. 0. 0. 0. 0. 0. 0. 0. 0. 0. 0. 0. 0. 0.\n",
            " 0. 0. 0. 0. 0. 0. 0. 0. 0. 0. 0. 0. 0. 0. 0. 0. 0. 0. 0. 0. 0. 0. 0. 0.\n",
            " 0. 0. 0. 0. 0. 0. 0. 0. 0. 0. 0. 0. 0. 0. 0. 0. 0. 0. 0. 0. 0. 0. 0. 0.\n",
            " 0. 0. 0. 0. 0. 0. 0. 0. 0. 0. 0. 0. 0. 0. 0. 0. 0. 0. 0. 0. 0. 0. 0. 0.\n",
            " 0. 0. 0. 0. 0. 0. 0. 0. 0. 0. 0. 0. 0. 0. 0. 0. 0. 0. 0. 0. 0. 0. 0. 0.\n",
            " 0. 0. 0. 0. 0. 0. 0. 0. 0. 0. 0. 0. 0. 0. 0. 0. 0. 0. 0. 0. 0. 0. 0. 0.\n",
            " 0. 0. 0. 0. 0. 0. 0. 0. 0. 0. 0. 0. 0. 0. 0. 0. 0. 0. 0. 0. 0. 0. 0. 0.\n",
            " 0. 0. 0. 0. 0. 0. 0. 0. 0. 0. 0. 0. 0. 0. 0. 0. 0. 0. 0. 0. 0. 0. 0. 0.\n",
            " 0. 0. 0. 0. 0. 0. 0. 0. 0. 0. 0. 0. 0. 0. 0. 0. 0. 0. 0. 0. 0. 0. 0. 0.\n",
            " 0. 0. 0. 0. 0. 0. 0. 0. 0. 0. 0. 0. 0. 0. 0. 0. 0. 0. 0. 0. 0. 0. 0. 0.\n",
            " 0. 0. 0. 0. 0. 0. 0. 0. 0. 0. 0. 0. 0. 0. 0. 0. 0. 0. 0. 0. 0. 0. 0. 0.\n",
            " 0. 0. 0. 0. 0. 0. 0. 0. 0. 0. 0. 0. 0. 0. 0. 0. 0.]\n"
          ],
          "name": "stdout"
        },
        {
          "output_type": "execute_result",
          "data": {
            "text/plain": [
              "numpy.ndarray"
            ]
          },
          "metadata": {
            "tags": []
          },
          "execution_count": 74
        }
      ]
    },
    {
      "cell_type": "code",
      "metadata": {
        "trusted": true,
        "id": "F3MIZrcrzFBT",
        "colab": {
          "base_uri": "https://localhost:8080/"
        },
        "outputId": "e03eeeb0-0419-40fa-8739-c203df4dae90"
      },
      "source": [
        "# Print the total number of labelled data. This way, we can double check the number of training and testing in each fold is correct.\n",
        "print('Size of Labelled Data: ', len(BC_classification))"
      ],
      "execution_count": null,
      "outputs": [
        {
          "output_type": "stream",
          "text": [
            "Size of Labelled Data:  569\n"
          ],
          "name": "stdout"
        }
      ]
    },
    {
      "cell_type": "markdown",
      "metadata": {
        "id": "Jjf6_UL2RVTB"
      },
      "source": [
        "# Exercise 1 (5 points)\n",
        "Complete the following code to choose the number of k in StratifiedKFold.  Suggestion: 5 or 10."
      ]
    },
    {
      "cell_type": "code",
      "metadata": {
        "trusted": true,
        "id": "af76aIqfzFBb"
      },
      "source": [
        "# Use Stratified Kfold Cross Validation so that\n",
        "#   each fold contains the same ratio of positive/negative instances\n",
        "k = 10\n",
        "skf = StratifiedKFold(n_splits= k , random_state=123, shuffle= True)"
      ],
      "execution_count": null,
      "outputs": []
    },
    {
      "cell_type": "markdown",
      "metadata": {
        "id": "sZ60dMIORzPO"
      },
      "source": [
        "# Exercise 2 (5 points)\n",
        "Complete the following code to specify the range of max_depth, which we will use later in this lab for finding the best max_depth using Stratified Kfold Cross Validation."
      ]
    },
    {
      "cell_type": "code",
      "metadata": {
        "trusted": true,
        "id": "CWPfD0K7zFBi"
      },
      "source": [
        "### Set the range of max_depth for finding the best max_depth for this problem\n",
        "low_max_depth = 1\n",
        "high_max_depth = 12\n",
        "training_performance_table = np.empty( [high_max_depth+1, k+1, 5] )\n",
        "testing_performance_table = np.empty( [high_max_depth+1, k+1, 5] )"
      ],
      "execution_count": null,
      "outputs": []
    },
    {
      "cell_type": "markdown",
      "metadata": {
        "id": "97MPdUikqBfO"
      },
      "source": [
        "# Exercise 3 (10 points)\n",
        "Complete the following code to specify \n",
        "- The random_state (an integer) for creating Decision Trees\n",
        "- The parameters for clf.fit (the first parameter is the input features of the training data, and the second parameter is the desired/actual classifications output of the training data)\n",
        "\n",
        "Execute the code, which iterates over different max_depth choices. For each max_depth choice, there is another for\n",
        "loop that performs stratified k-fold cross validation to\n",
        "compute k f1 measures, one for each fold. The f1 measure for\n",
        "training data is stored in the training_performance_table, and the f1 measure for testing data is stored in the testing_performance_table."
      ]
    },
    {
      "cell_type": "code",
      "metadata": {
        "trusted": true,
        "id": "VaxQCgP4zFBp",
        "colab": {
          "base_uri": "https://localhost:8080/"
        },
        "outputId": "66001c96-4eb8-4d1c-bc7b-a80876403675"
      },
      "source": [
        "X = BC_features\n",
        "y = BC_classification\n",
        "\n",
        "for depth in range(low_max_depth, high_max_depth+1):\n",
        "\n",
        "    fold = 0\n",
        "\n",
        "    for train_index, test_index in skf.split(X, y):\n",
        "        print(\"Fold Number:\", fold+1)\n",
        "        #print(\"Training Data Index:\", train_index)\n",
        "        #print(\"Testing Data Index:\", test_index)  \n",
        "    \n",
        "        x_train= X[train_index]    \n",
        "        # print(\"Training Data:\", x_train)\n",
        "        y_train= y[train_index]\n",
        "        #print(\"Training Data Target Output:\", y_train)\n",
        "        x_test= X[test_index]\n",
        "        # print(\"Testing Data:\", x_test)\n",
        "        y_test= y[test_index]\n",
        "        #print(\"Testing Data Target Output:\", y_test)\n",
        "    \n",
        "        clf = tree.DecisionTreeClassifier(criterion='entropy', random_state = 1234, max_depth=depth, \\\n",
        "                                  min_samples_leaf =2)\n",
        "    \n",
        "        clf.fit(x_train, y_train)\n",
        "    \n",
        "        ### Use the model generated to predict for training data\n",
        "        predicted_training_y = clf.predict(x_train)\n",
        "    \n",
        "        train_p = metrics.precision_score(y_train, predicted_training_y)\n",
        "        train_r = metrics.recall_score(y_train, predicted_training_y)\n",
        "        train_f1= metrics.f1_score(y_train, predicted_training_y)\n",
        "        training_performance_table[depth, fold, 0]=depth\n",
        "        training_performance_table[depth, fold, 1]=train_p\n",
        "        training_performance_table[depth, fold, 2]=train_r\n",
        "        training_performance_table[depth, fold, 3]=train_f1\n",
        "        print(\"Max depth is \", depth, \"Prediction Performance for Training Data f1:\", train_f1)\n",
        "\n",
        "        ### Use the model generated to predict for testint data\n",
        "        predicted_testing_y = clf.predict(x_test)\n",
        "    \n",
        "        test_p= metrics.precision_score(y_test, predicted_testing_y)\n",
        "        test_r= metrics.recall_score(y_test, predicted_testing_y)\n",
        "        test_f1 = metrics.f1_score(y_test, predicted_testing_y)\n",
        "        testing_performance_table[depth, fold, 0]=depth\n",
        "        testing_performance_table[depth, fold, 1]=test_p\n",
        "        testing_performance_table[depth, fold, 2]= test_r\n",
        "        testing_performance_table[depth, fold, 3]= test_f1\n",
        "        print(\"Prediction Performance for Testing Data f1:\", test_f1)\n",
        "    \n",
        "        fold=fold+1\n",
        "    \n"
      ],
      "execution_count": null,
      "outputs": [
        {
          "output_type": "stream",
          "text": [
            "Fold Number: 1\n",
            "Max depth is  1 Prediction Performance for Training Data f1: 0.8975069252077563\n",
            "Prediction Performance for Testing Data f1: 0.8292682926829269\n",
            "Fold Number: 2\n",
            "Max depth is  1 Prediction Performance for Training Data f1: 0.8908045977011495\n",
            "Prediction Performance for Testing Data f1: 0.7999999999999999\n",
            "Fold Number: 3\n",
            "Max depth is  1 Prediction Performance for Training Data f1: 0.903061224489796\n",
            "Prediction Performance for Testing Data f1: 0.7500000000000001\n",
            "Fold Number: 4\n",
            "Max depth is  1 Prediction Performance for Training Data f1: 0.8925619834710744\n",
            "Prediction Performance for Testing Data f1: 0.8717948717948718\n",
            "Fold Number: 5\n",
            "Max depth is  1 Prediction Performance for Training Data f1: 0.8951406649616369\n",
            "Prediction Performance for Testing Data f1: 0.888888888888889\n",
            "Fold Number: 6\n",
            "Max depth is  1 Prediction Performance for Training Data f1: 0.8928571428571429\n",
            "Prediction Performance for Testing Data f1: 0.9047619047619048\n",
            "Fold Number: 7\n",
            "Max depth is  1 Prediction Performance for Training Data f1: 0.8979591836734694\n",
            "Prediction Performance for Testing Data f1: 0.8636363636363636\n",
            "Fold Number: 8\n",
            "Max depth is  1 Prediction Performance for Training Data f1: 0.8928571428571429\n",
            "Prediction Performance for Testing Data f1: 0.909090909090909\n",
            "Fold Number: 9\n",
            "Max depth is  1 Prediction Performance for Training Data f1: 0.8944723618090452\n",
            "Prediction Performance for Testing Data f1: 0.8636363636363636\n",
            "Fold Number: 10\n",
            "Max depth is  1 Prediction Performance for Training Data f1: 0.8932584269662921\n",
            "Prediction Performance for Testing Data f1: 0.8205128205128205\n",
            "Fold Number: 1\n",
            "Max depth is  2 Prediction Performance for Training Data f1: 0.9226804123711341\n",
            "Prediction Performance for Testing Data f1: 0.9302325581395349\n",
            "Fold Number: 2\n",
            "Max depth is  2 Prediction Performance for Training Data f1: 0.8908045977011495\n",
            "Prediction Performance for Testing Data f1: 0.7999999999999999\n",
            "Fold Number: 3\n",
            "Max depth is  2 Prediction Performance for Training Data f1: 0.903061224489796\n",
            "Prediction Performance for Testing Data f1: 0.7500000000000001\n",
            "Fold Number: 4\n",
            "Max depth is  2 Prediction Performance for Training Data f1: 0.9185185185185185\n",
            "Prediction Performance for Testing Data f1: 0.9767441860465117\n",
            "Fold Number: 5\n",
            "Max depth is  2 Prediction Performance for Training Data f1: 0.8951406649616369\n",
            "Prediction Performance for Testing Data f1: 0.888888888888889\n",
            "Fold Number: 6\n",
            "Max depth is  2 Prediction Performance for Training Data f1: 0.9162303664921466\n",
            "Prediction Performance for Testing Data f1: 0.888888888888889\n",
            "Fold Number: 7\n",
            "Max depth is  2 Prediction Performance for Training Data f1: 0.9055690072639225\n",
            "Prediction Performance for Testing Data f1: 0.8750000000000001\n",
            "Fold Number: 8\n",
            "Max depth is  2 Prediction Performance for Training Data f1: 0.9012048192771085\n",
            "Prediction Performance for Testing Data f1: 0.9130434782608696\n",
            "Fold Number: 9\n",
            "Max depth is  2 Prediction Performance for Training Data f1: 0.8944723618090452\n",
            "Prediction Performance for Testing Data f1: 0.8636363636363636\n",
            "Fold Number: 10\n",
            "Max depth is  2 Prediction Performance for Training Data f1: 0.9253731343283582\n",
            "Prediction Performance for Testing Data f1: 0.8510638297872339\n",
            "Fold Number: 1\n",
            "Max depth is  3 Prediction Performance for Training Data f1: 0.964769647696477\n",
            "Prediction Performance for Testing Data f1: 0.9302325581395349\n",
            "Fold Number: 2\n",
            "Max depth is  3 Prediction Performance for Training Data f1: 0.9421487603305785\n",
            "Prediction Performance for Testing Data f1: 0.8292682926829269\n",
            "Fold Number: 3\n",
            "Max depth is  3 Prediction Performance for Training Data f1: 0.9708222811671087\n",
            "Prediction Performance for Testing Data f1: 0.8717948717948718\n",
            "Fold Number: 4\n",
            "Max depth is  3 Prediction Performance for Training Data f1: 0.964769647696477\n",
            "Prediction Performance for Testing Data f1: 0.9268292682926829\n",
            "Fold Number: 5\n",
            "Max depth is  3 Prediction Performance for Training Data f1: 0.9597855227882037\n",
            "Prediction Performance for Testing Data f1: 0.9500000000000001\n",
            "Fold Number: 6\n",
            "Max depth is  3 Prediction Performance for Training Data f1: 0.9536082474226804\n",
            "Prediction Performance for Testing Data f1: 0.909090909090909\n",
            "Fold Number: 7\n",
            "Max depth is  3 Prediction Performance for Training Data f1: 0.9484536082474228\n",
            "Prediction Performance for Testing Data f1: 0.909090909090909\n",
            "Fold Number: 8\n",
            "Max depth is  3 Prediction Performance for Training Data f1: 0.9516129032258065\n",
            "Prediction Performance for Testing Data f1: 0.8571428571428571\n",
            "Fold Number: 9\n",
            "Max depth is  3 Prediction Performance for Training Data f1: 0.9593495934959348\n",
            "Prediction Performance for Testing Data f1: 0.8947368421052632\n",
            "Fold Number: 10\n",
            "Max depth is  3 Prediction Performance for Training Data f1: 0.964769647696477\n",
            "Prediction Performance for Testing Data f1: 0.9\n",
            "Fold Number: 1\n",
            "Max depth is  4 Prediction Performance for Training Data f1: 0.9812332439678284\n",
            "Prediction Performance for Testing Data f1: 0.9302325581395349\n",
            "Fold Number: 2\n",
            "Max depth is  4 Prediction Performance for Training Data f1: 0.9703504043126685\n",
            "Prediction Performance for Testing Data f1: 0.8292682926829269\n",
            "Fold Number: 3\n",
            "Max depth is  4 Prediction Performance for Training Data f1: 0.9894736842105263\n",
            "Prediction Performance for Testing Data f1: 0.8500000000000001\n",
            "Fold Number: 4\n",
            "Max depth is  4 Prediction Performance for Training Data f1: 0.9703504043126685\n",
            "Prediction Performance for Testing Data f1: 0.9268292682926829\n",
            "Fold Number: 5\n",
            "Max depth is  4 Prediction Performance for Training Data f1: 0.9675675675675676\n",
            "Prediction Performance for Testing Data f1: 0.923076923076923\n",
            "Fold Number: 6\n",
            "Max depth is  4 Prediction Performance for Training Data f1: 0.9921259842519685\n",
            "Prediction Performance for Testing Data f1: 0.9302325581395349\n",
            "Fold Number: 7\n",
            "Max depth is  4 Prediction Performance for Training Data f1: 0.9761273209549071\n",
            "Prediction Performance for Testing Data f1: 0.9047619047619048\n",
            "Fold Number: 8\n",
            "Max depth is  4 Prediction Performance for Training Data f1: 0.9623655913978495\n",
            "Prediction Performance for Testing Data f1: 0.8837209302325582\n",
            "Fold Number: 9\n",
            "Max depth is  4 Prediction Performance for Training Data f1: 0.9711286089238845\n",
            "Prediction Performance for Testing Data f1: 0.9047619047619048\n",
            "Fold Number: 10\n",
            "Max depth is  4 Prediction Performance for Training Data f1: 0.9705093833780161\n",
            "Prediction Performance for Testing Data f1: 0.8571428571428571\n",
            "Fold Number: 1\n",
            "Max depth is  5 Prediction Performance for Training Data f1: 0.9812332439678284\n",
            "Prediction Performance for Testing Data f1: 0.9302325581395349\n",
            "Fold Number: 2\n",
            "Max depth is  5 Prediction Performance for Training Data f1: 0.970189701897019\n",
            "Prediction Performance for Testing Data f1: 0.8292682926829269\n",
            "Fold Number: 3\n",
            "Max depth is  5 Prediction Performance for Training Data f1: 0.9894179894179894\n",
            "Prediction Performance for Testing Data f1: 0.8500000000000001\n",
            "Fold Number: 4\n",
            "Max depth is  5 Prediction Performance for Training Data f1: 0.9868073878627969\n",
            "Prediction Performance for Testing Data f1: 0.9523809523809523\n",
            "Fold Number: 5\n",
            "Max depth is  5 Prediction Performance for Training Data f1: 0.9813333333333333\n",
            "Prediction Performance for Testing Data f1: 0.923076923076923\n",
            "Fold Number: 6\n",
            "Max depth is  5 Prediction Performance for Training Data f1: 0.9920844327176782\n",
            "Prediction Performance for Testing Data f1: 0.909090909090909\n",
            "Fold Number: 7\n",
            "Max depth is  5 Prediction Performance for Training Data f1: 0.9842105263157894\n",
            "Prediction Performance for Testing Data f1: 0.9302325581395349\n",
            "Fold Number: 8\n",
            "Max depth is  5 Prediction Performance for Training Data f1: 0.9841269841269842\n",
            "Prediction Performance for Testing Data f1: 0.8636363636363636\n",
            "Fold Number: 9\n",
            "Max depth is  5 Prediction Performance for Training Data f1: 0.9840425531914894\n",
            "Prediction Performance for Testing Data f1: 0.8947368421052632\n",
            "Fold Number: 10\n",
            "Max depth is  5 Prediction Performance for Training Data f1: 0.986737400530504\n",
            "Prediction Performance for Testing Data f1: 0.9047619047619048\n",
            "Fold Number: 1\n",
            "Max depth is  6 Prediction Performance for Training Data f1: 0.9920424403183024\n",
            "Prediction Performance for Testing Data f1: 0.9302325581395349\n",
            "Fold Number: 2\n",
            "Max depth is  6 Prediction Performance for Training Data f1: 0.9812332439678284\n",
            "Prediction Performance for Testing Data f1: 0.8571428571428572\n",
            "Fold Number: 3\n",
            "Max depth is  6 Prediction Performance for Training Data f1: 0.9894179894179894\n",
            "Prediction Performance for Testing Data f1: 0.8500000000000001\n",
            "Fold Number: 4\n",
            "Max depth is  6 Prediction Performance for Training Data f1: 0.9894736842105263\n",
            "Prediction Performance for Testing Data f1: 0.9523809523809523\n",
            "Fold Number: 5\n",
            "Max depth is  6 Prediction Performance for Training Data f1: 0.986737400530504\n",
            "Prediction Performance for Testing Data f1: 0.9\n",
            "Fold Number: 6\n",
            "Max depth is  6 Prediction Performance for Training Data f1: 0.9973753280839895\n",
            "Prediction Performance for Testing Data f1: 0.9302325581395349\n",
            "Fold Number: 7\n",
            "Max depth is  6 Prediction Performance for Training Data f1: 0.9947368421052631\n",
            "Prediction Performance for Testing Data f1: 0.9047619047619048\n",
            "Fold Number: 8\n",
            "Max depth is  6 Prediction Performance for Training Data f1: 0.9921671018276764\n",
            "Prediction Performance for Testing Data f1: 0.8636363636363636\n",
            "Fold Number: 9\n",
            "Max depth is  6 Prediction Performance for Training Data f1: 0.9894179894179894\n",
            "Prediction Performance for Testing Data f1: 0.923076923076923\n",
            "Fold Number: 10\n",
            "Max depth is  6 Prediction Performance for Training Data f1: 0.9920844327176782\n",
            "Prediction Performance for Testing Data f1: 0.8636363636363636\n",
            "Fold Number: 1\n",
            "Max depth is  7 Prediction Performance for Training Data f1: 0.9920424403183024\n",
            "Prediction Performance for Testing Data f1: 0.9302325581395349\n",
            "Fold Number: 2\n",
            "Max depth is  7 Prediction Performance for Training Data f1: 0.9893617021276596\n",
            "Prediction Performance for Testing Data f1: 0.8837209302325582\n",
            "Fold Number: 3\n",
            "Max depth is  7 Prediction Performance for Training Data f1: 0.9894179894179894\n",
            "Prediction Performance for Testing Data f1: 0.8500000000000001\n",
            "Fold Number: 4\n",
            "Max depth is  7 Prediction Performance for Training Data f1: 0.9894736842105263\n",
            "Prediction Performance for Testing Data f1: 0.9523809523809523\n",
            "Fold Number: 5\n",
            "Max depth is  7 Prediction Performance for Training Data f1: 0.986737400530504\n",
            "Prediction Performance for Testing Data f1: 0.9\n",
            "Fold Number: 6\n",
            "Max depth is  7 Prediction Performance for Training Data f1: 0.9973753280839895\n",
            "Prediction Performance for Testing Data f1: 0.9302325581395349\n",
            "Fold Number: 7\n",
            "Max depth is  7 Prediction Performance for Training Data f1: 0.9947368421052631\n",
            "Prediction Performance for Testing Data f1: 0.9047619047619048\n",
            "Fold Number: 8\n",
            "Max depth is  7 Prediction Performance for Training Data f1: 0.9921671018276764\n",
            "Prediction Performance for Testing Data f1: 0.8636363636363636\n",
            "Fold Number: 9\n",
            "Max depth is  7 Prediction Performance for Training Data f1: 0.9894179894179894\n",
            "Prediction Performance for Testing Data f1: 0.923076923076923\n",
            "Fold Number: 10\n",
            "Max depth is  7 Prediction Performance for Training Data f1: 0.9920844327176782\n",
            "Prediction Performance for Testing Data f1: 0.8636363636363636\n",
            "Fold Number: 1\n",
            "Max depth is  8 Prediction Performance for Training Data f1: 0.9920424403183024\n",
            "Prediction Performance for Testing Data f1: 0.9302325581395349\n",
            "Fold Number: 2\n",
            "Max depth is  8 Prediction Performance for Training Data f1: 0.9893617021276596\n",
            "Prediction Performance for Testing Data f1: 0.8837209302325582\n",
            "Fold Number: 3\n",
            "Max depth is  8 Prediction Performance for Training Data f1: 0.9894179894179894\n",
            "Prediction Performance for Testing Data f1: 0.8500000000000001\n",
            "Fold Number: 4\n",
            "Max depth is  8 Prediction Performance for Training Data f1: 0.9894736842105263\n",
            "Prediction Performance for Testing Data f1: 0.9523809523809523\n",
            "Fold Number: 5\n",
            "Max depth is  8 Prediction Performance for Training Data f1: 0.986737400530504\n",
            "Prediction Performance for Testing Data f1: 0.9\n",
            "Fold Number: 6\n",
            "Max depth is  8 Prediction Performance for Training Data f1: 0.9973753280839895\n",
            "Prediction Performance for Testing Data f1: 0.9302325581395349\n",
            "Fold Number: 7\n",
            "Max depth is  8 Prediction Performance for Training Data f1: 0.9947368421052631\n",
            "Prediction Performance for Testing Data f1: 0.9047619047619048\n",
            "Fold Number: 8\n",
            "Max depth is  8 Prediction Performance for Training Data f1: 0.9921671018276764\n",
            "Prediction Performance for Testing Data f1: 0.8636363636363636\n",
            "Fold Number: 9\n",
            "Max depth is  8 Prediction Performance for Training Data f1: 0.9894179894179894\n",
            "Prediction Performance for Testing Data f1: 0.923076923076923\n",
            "Fold Number: 10\n",
            "Max depth is  8 Prediction Performance for Training Data f1: 0.9920844327176782\n",
            "Prediction Performance for Testing Data f1: 0.8636363636363636\n",
            "Fold Number: 1\n",
            "Max depth is  9 Prediction Performance for Training Data f1: 0.9920424403183024\n",
            "Prediction Performance for Testing Data f1: 0.9302325581395349\n",
            "Fold Number: 2\n",
            "Max depth is  9 Prediction Performance for Training Data f1: 0.9893617021276596\n",
            "Prediction Performance for Testing Data f1: 0.8837209302325582\n",
            "Fold Number: 3\n",
            "Max depth is  9 Prediction Performance for Training Data f1: 0.9894179894179894\n",
            "Prediction Performance for Testing Data f1: 0.8500000000000001\n",
            "Fold Number: 4\n",
            "Max depth is  9 Prediction Performance for Training Data f1: 0.9894736842105263\n",
            "Prediction Performance for Testing Data f1: 0.9523809523809523\n",
            "Fold Number: 5\n",
            "Max depth is  9 Prediction Performance for Training Data f1: 0.986737400530504\n",
            "Prediction Performance for Testing Data f1: 0.9\n",
            "Fold Number: 6\n",
            "Max depth is  9 Prediction Performance for Training Data f1: 0.9973753280839895\n",
            "Prediction Performance for Testing Data f1: 0.9302325581395349\n",
            "Fold Number: 7\n",
            "Max depth is  9 Prediction Performance for Training Data f1: 0.9947368421052631\n",
            "Prediction Performance for Testing Data f1: 0.9047619047619048\n",
            "Fold Number: 8\n",
            "Max depth is  9 Prediction Performance for Training Data f1: 0.9921671018276764\n",
            "Prediction Performance for Testing Data f1: 0.8636363636363636\n",
            "Fold Number: 9\n",
            "Max depth is  9 Prediction Performance for Training Data f1: 0.9894179894179894\n",
            "Prediction Performance for Testing Data f1: 0.923076923076923\n",
            "Fold Number: 10\n",
            "Max depth is  9 Prediction Performance for Training Data f1: 0.9920844327176782\n",
            "Prediction Performance for Testing Data f1: 0.8636363636363636\n",
            "Fold Number: 1\n",
            "Max depth is  10 Prediction Performance for Training Data f1: 0.9920424403183024\n",
            "Prediction Performance for Testing Data f1: 0.9302325581395349\n",
            "Fold Number: 2\n",
            "Max depth is  10 Prediction Performance for Training Data f1: 0.9893617021276596\n",
            "Prediction Performance for Testing Data f1: 0.8837209302325582\n",
            "Fold Number: 3\n",
            "Max depth is  10 Prediction Performance for Training Data f1: 0.9894179894179894\n",
            "Prediction Performance for Testing Data f1: 0.8500000000000001\n",
            "Fold Number: 4\n",
            "Max depth is  10 Prediction Performance for Training Data f1: 0.9894736842105263\n",
            "Prediction Performance for Testing Data f1: 0.9523809523809523\n",
            "Fold Number: 5\n",
            "Max depth is  10 Prediction Performance for Training Data f1: 0.986737400530504\n",
            "Prediction Performance for Testing Data f1: 0.9\n",
            "Fold Number: 6\n",
            "Max depth is  10 Prediction Performance for Training Data f1: 0.9973753280839895\n",
            "Prediction Performance for Testing Data f1: 0.9302325581395349\n",
            "Fold Number: 7\n",
            "Max depth is  10 Prediction Performance for Training Data f1: 0.9947368421052631\n",
            "Prediction Performance for Testing Data f1: 0.9047619047619048\n",
            "Fold Number: 8\n",
            "Max depth is  10 Prediction Performance for Training Data f1: 0.9921671018276764\n",
            "Prediction Performance for Testing Data f1: 0.8636363636363636\n",
            "Fold Number: 9\n",
            "Max depth is  10 Prediction Performance for Training Data f1: 0.9894179894179894\n",
            "Prediction Performance for Testing Data f1: 0.923076923076923\n",
            "Fold Number: 10\n",
            "Max depth is  10 Prediction Performance for Training Data f1: 0.9920844327176782\n",
            "Prediction Performance for Testing Data f1: 0.8636363636363636\n",
            "Fold Number: 1\n",
            "Max depth is  11 Prediction Performance for Training Data f1: 0.9920424403183024\n",
            "Prediction Performance for Testing Data f1: 0.9302325581395349\n",
            "Fold Number: 2\n",
            "Max depth is  11 Prediction Performance for Training Data f1: 0.9893617021276596\n",
            "Prediction Performance for Testing Data f1: 0.8837209302325582\n",
            "Fold Number: 3\n",
            "Max depth is  11 Prediction Performance for Training Data f1: 0.9894179894179894\n",
            "Prediction Performance for Testing Data f1: 0.8500000000000001\n",
            "Fold Number: 4\n",
            "Max depth is  11 Prediction Performance for Training Data f1: 0.9894736842105263\n",
            "Prediction Performance for Testing Data f1: 0.9523809523809523\n",
            "Fold Number: 5\n",
            "Max depth is  11 Prediction Performance for Training Data f1: 0.986737400530504\n",
            "Prediction Performance for Testing Data f1: 0.9\n",
            "Fold Number: 6\n",
            "Max depth is  11 Prediction Performance for Training Data f1: 0.9973753280839895\n",
            "Prediction Performance for Testing Data f1: 0.9302325581395349\n",
            "Fold Number: 7\n",
            "Max depth is  11 Prediction Performance for Training Data f1: 0.9947368421052631\n",
            "Prediction Performance for Testing Data f1: 0.9047619047619048\n",
            "Fold Number: 8\n",
            "Max depth is  11 Prediction Performance for Training Data f1: 0.9921671018276764\n",
            "Prediction Performance for Testing Data f1: 0.8636363636363636\n",
            "Fold Number: 9\n",
            "Max depth is  11 Prediction Performance for Training Data f1: 0.9894179894179894\n",
            "Prediction Performance for Testing Data f1: 0.923076923076923\n",
            "Fold Number: 10\n",
            "Max depth is  11 Prediction Performance for Training Data f1: 0.9920844327176782\n",
            "Prediction Performance for Testing Data f1: 0.8636363636363636\n",
            "Fold Number: 1\n",
            "Max depth is  12 Prediction Performance for Training Data f1: 0.9920424403183024\n",
            "Prediction Performance for Testing Data f1: 0.9302325581395349\n",
            "Fold Number: 2\n",
            "Max depth is  12 Prediction Performance for Training Data f1: 0.9893617021276596\n",
            "Prediction Performance for Testing Data f1: 0.8837209302325582\n",
            "Fold Number: 3\n",
            "Max depth is  12 Prediction Performance for Training Data f1: 0.9894179894179894\n",
            "Prediction Performance for Testing Data f1: 0.8500000000000001\n",
            "Fold Number: 4\n",
            "Max depth is  12 Prediction Performance for Training Data f1: 0.9894736842105263\n",
            "Prediction Performance for Testing Data f1: 0.9523809523809523\n",
            "Fold Number: 5\n",
            "Max depth is  12 Prediction Performance for Training Data f1: 0.986737400530504\n",
            "Prediction Performance for Testing Data f1: 0.9\n",
            "Fold Number: 6\n",
            "Max depth is  12 Prediction Performance for Training Data f1: 0.9973753280839895\n",
            "Prediction Performance for Testing Data f1: 0.9302325581395349\n",
            "Fold Number: 7\n",
            "Max depth is  12 Prediction Performance for Training Data f1: 0.9947368421052631\n",
            "Prediction Performance for Testing Data f1: 0.9047619047619048\n",
            "Fold Number: 8\n",
            "Max depth is  12 Prediction Performance for Training Data f1: 0.9921671018276764\n",
            "Prediction Performance for Testing Data f1: 0.8636363636363636\n",
            "Fold Number: 9\n",
            "Max depth is  12 Prediction Performance for Training Data f1: 0.9894179894179894\n",
            "Prediction Performance for Testing Data f1: 0.923076923076923\n",
            "Fold Number: 10\n",
            "Max depth is  12 Prediction Performance for Training Data f1: 0.9920844327176782\n",
            "Prediction Performance for Testing Data f1: 0.8636363636363636\n"
          ],
          "name": "stdout"
        }
      ]
    },
    {
      "cell_type": "markdown",
      "metadata": {
        "id": "uAVryzxjzFBw"
      },
      "source": [
        "### Calculate Average, Minimum, and Maximum f1 score across folds \n",
        "The first dimension of training_performance_table refers to a specific max_depth value.\n",
        "The second dimension of training_performance_table refers to the number of a fold (in a Stratified k-fold).\n",
        "The third dimension of training_performance_table saves f1 score in index \"3\".\n",
        "\n",
        "For example, the code below returns an array of f1_score for all k folds for max_depth set to 3."
      ]
    },
    {
      "cell_type": "code",
      "metadata": {
        "trusted": true,
        "id": "24UIPcP1zFBx",
        "colab": {
          "base_uri": "https://localhost:8080/"
        },
        "outputId": "8f79f561-6800-4ed5-af04-e83c0acedb0e"
      },
      "source": [
        "f1_array=training_performance_table[3, 0:k:1, 3]\n",
        "print(f1_array)"
      ],
      "execution_count": null,
      "outputs": [
        {
          "output_type": "stream",
          "text": [
            "[0.96476965 0.94214876 0.97082228 0.96476965 0.95978552 0.95360825\n",
            " 0.94845361 0.9516129  0.95934959 0.96476965]\n"
          ],
          "name": "stdout"
        }
      ]
    },
    {
      "cell_type": "markdown",
      "metadata": {
        "id": "DoHsgS8FzFB2"
      },
      "source": [
        "#### Numpy offers a convenient way to calculate the average, the minimum, and the maximum value of a given array:\n",
        "    np.average returns the average of a given array\n",
        "    np.amin returns the minimum value of a given array\n",
        "    np.amax regturns the maximum value of a given array"
      ]
    },
    {
      "cell_type": "code",
      "metadata": {
        "trusted": true,
        "id": "Wm1zf6_UzFB3",
        "colab": {
          "base_uri": "https://localhost:8080/"
        },
        "outputId": "a2d2117e-24cb-4823-e2f7-028a719958fb"
      },
      "source": [
        "np.average(f1_array)"
      ],
      "execution_count": null,
      "outputs": [
        {
          "output_type": "execute_result",
          "data": {
            "text/plain": [
              "0.9580089859767165"
            ]
          },
          "metadata": {
            "tags": []
          },
          "execution_count": 79
        }
      ]
    },
    {
      "cell_type": "code",
      "metadata": {
        "trusted": true,
        "id": "YMW9k5zezFB8",
        "colab": {
          "base_uri": "https://localhost:8080/"
        },
        "outputId": "c08ac145-1979-4050-a124-da0e00be478f"
      },
      "source": [
        "np.amin(training_performance_table[7, 1:k+1:1, 3])"
      ],
      "execution_count": null,
      "outputs": [
        {
          "output_type": "execute_result",
          "data": {
            "text/plain": [
              "6.9229178463105e-310"
            ]
          },
          "metadata": {
            "tags": []
          },
          "execution_count": 80
        }
      ]
    },
    {
      "cell_type": "code",
      "metadata": {
        "trusted": true,
        "id": "Ohdv4iwszFCB",
        "colab": {
          "base_uri": "https://localhost:8080/"
        },
        "outputId": "0e6a266e-eac1-4197-e71c-4e244856e842"
      },
      "source": [
        "np.amax(training_performance_table[7, 1:k+1:1, 3])"
      ],
      "execution_count": null,
      "outputs": [
        {
          "output_type": "execute_result",
          "data": {
            "text/plain": [
              "0.9973753280839895"
            ]
          },
          "metadata": {
            "tags": []
          },
          "execution_count": 81
        }
      ]
    },
    {
      "cell_type": "markdown",
      "metadata": {
        "trusted": false,
        "id": "9IE_BglJzFCF"
      },
      "source": [
        "### We want to calculate the average performance across all folds for each max_depth so that we can compare them. We use an array\n",
        "```\n",
        "cv_training_f1_summary[ depth, performance]\n",
        "```\n",
        "to store the average, minimum, and maximum f1 score for training data across all k folds for each max_depth choice.  For simplicity, we use a 2-dimensional array to record these performance summary based\n",
        "on k-fold Cross Validation.  The first dimension of the array is max_depth, and the second dimensiuon of the array stores average,\n",
        "minimu, and maximum as follows:\n",
        "0: average f1 score \n",
        "1: minimum f1 score\n",
        "2: maximum f1 score\n",
        "\n",
        "Similarily, we use the array\n",
        "```\n",
        "cv_testing_f1_summary[ depth, performance ] \n",
        "```\n",
        "to store the average, minimum, and maximum f1 score for testing data across all k folds for each max_depth choice."
      ]
    },
    {
      "cell_type": "code",
      "metadata": {
        "trusted": true,
        "id": "3wzm8sSbzFCF"
      },
      "source": [
        "cv_training_f1_summary = np.empty( [high_max_depth+1, 3])\n",
        "cv_testing_f1_summary = np.empty( [high_max_depth+1, 3])\n",
        "first_fold = 0\n",
        "last_fold = k\n",
        "for depth in range(low_max_depth, high_max_depth+1):\n",
        "    train_f1_array = training_performance_table[depth, first_fold:last_fold:1 , 3]\n",
        "    cv_training_f1_summary[depth, 0] = np.average(train_f1_array)\n",
        "    cv_training_f1_summary[depth, 1] = np.amin(train_f1_array)\n",
        "    cv_training_f1_summary[depth, 2] = np.amax(train_f1_array)\n",
        "    test_f1_array = testing_performance_table[depth, first_fold:last_fold:1, 3]\n",
        "    cv_testing_f1_summary[depth, 0] = np.average(test_f1_array)\n",
        "    cv_testing_f1_summary[depth, 1] = np.amin(test_f1_array)\n",
        "    cv_testing_f1_summary[depth, 2] = np.amax(test_f1_array)"
      ],
      "execution_count": null,
      "outputs": []
    },
    {
      "cell_type": "markdown",
      "metadata": {
        "id": "pbFDgkP3zFCK"
      },
      "source": [
        "### We want to plot the average of f1 scores (across all k folds) for each max_depth, and compare the average of f1 scores for training data and testing data"
      ]
    },
    {
      "cell_type": "code",
      "metadata": {
        "trusted": true,
        "id": "3Y0hV40nzFCL"
      },
      "source": [
        "import matplotlib.pyplot as plt\n",
        "from matplotlib.pyplot import *"
      ],
      "execution_count": null,
      "outputs": []
    },
    {
      "cell_type": "code",
      "metadata": {
        "trusted": true,
        "id": "2dNGnOTfzFCP",
        "colab": {
          "base_uri": "https://localhost:8080/"
        },
        "outputId": "3b70f32c-00c4-4185-c533-366f4fc88746"
      },
      "source": [
        "matplotlib.use('Agg', warn=False)\n",
        "%matplotlib inline\n",
        "import matplotlib.pyplot as plots\n",
        "plots.style.use('fivethirtyeight')\n",
        "\n",
        "import warnings\n",
        "warnings.simplefilter(action=\"ignore\", category=FutureWarning )"
      ],
      "execution_count": null,
      "outputs": [
        {
          "output_type": "stream",
          "text": [
            "/usr/local/lib/python3.6/dist-packages/ipykernel_launcher.py:1: MatplotlibDeprecationWarning: The 'warn' parameter of use() is deprecated since Matplotlib 3.1 and will be removed in 3.3.  If any parameter follows 'warn', they should be pass as keyword, not positionally.\n",
            "  \"\"\"Entry point for launching an IPython kernel.\n"
          ],
          "name": "stderr"
        }
      ]
    },
    {
      "cell_type": "code",
      "metadata": {
        "trusted": true,
        "id": "un7vLovmzFCT",
        "colab": {
          "base_uri": "https://localhost:8080/"
        },
        "outputId": "24cd9215-a037-460b-84bc-ccf73e6e9aad"
      },
      "source": [
        "depth=np.linspace(low_max_depth, high_max_depth, high_max_depth-low_max_depth+1)\n",
        "print(depth)"
      ],
      "execution_count": null,
      "outputs": [
        {
          "output_type": "stream",
          "text": [
            "[ 1.  2.  3.  4.  5.  6.  7.  8.  9. 10. 11. 12.]\n"
          ],
          "name": "stdout"
        }
      ]
    },
    {
      "cell_type": "code",
      "metadata": {
        "trusted": true,
        "id": "EAiQQzlQzFCX"
      },
      "source": [
        "avg_f1_training = cv_training_f1_summary[low_max_depth:high_max_depth+1, 0]\n",
        "min_f1_training = cv_training_f1_summary[low_max_depth:high_max_depth+1, 1]\n",
        "avg_f1_testing = cv_testing_f1_summary[low_max_depth:high_max_depth+1, 0]\n",
        "min_f1_testing = cv_testing_f1_summary[low_max_depth:high_max_depth+1, 1]"
      ],
      "execution_count": null,
      "outputs": []
    },
    {
      "cell_type": "markdown",
      "metadata": {
        "id": "y8VA8n3TzFCd"
      },
      "source": [
        "# Exercise 4 (10 points)\n",
        "Complete the following code for plotting average f1 training (across k folds) and\n",
        "average f1 testing. Make sure you enter the correct variable for the lable corresponding to the correct performance. For example, the training_avg_lable should be used for the plot of avg_f1_training."
      ]
    },
    {
      "cell_type": "code",
      "metadata": {
        "trusted": true,
        "id": "VhKtQDIVzFCd",
        "colab": {
          "base_uri": "https://localhost:8080/",
          "height": 325
        },
        "outputId": "5f89c657-a274-460c-f9fd-94cbf439247e"
      },
      "source": [
        "training_avg_lable= str(k) + \" fold CV Avg f1 for training\"\n",
        "testing_avg_lable = str(k) + \" fold CV Avg f1 for testing\"\n",
        "plt.plot(depth, avg_f1_training, label= training_avg_lable)\n",
        "plt.plot(depth, avg_f1_testing, label= testing_avg_lable)\n",
        "plt.xlabel('max_depth')\n",
        "title= str(k) + ' Fold CV Avg f1 vs max_depth for training data and testing data'\n",
        "plt.title(title)\n",
        "plt.legend()\n",
        "plt.show()"
      ],
      "execution_count": null,
      "outputs": [
        {
          "output_type": "display_data",
          "data": {
            "image/png": "[encoded data removed]",
            "text/plain": [
              "<Figure size 432x288 with 1 Axes>"
            ]
          },
          "metadata": {
            "tags": []
          }
        }
      ]
    },
    {
      "cell_type": "markdown",
      "metadata": {
        "id": "jpAASTqnt7B7"
      },
      "source": [
        "# Exercise 5 (10 points)\n",
        "Complete the following code to plot both the average f1 and the minimum f1 across k folds for both the training data and the testing data.  Make sure you enter the correct variable for the correct label. "
      ]
    },
    {
      "cell_type": "code",
      "metadata": {
        "trusted": true,
        "id": "f0KBXBjFzFCg",
        "colab": {
          "base_uri": "https://localhost:8080/",
          "height": 325
        },
        "outputId": "a6834d53-d51c-45d9-d551-c047b986d4d4"
      },
      "source": [
        "training_min_lable = str(k)+ \" fold CV Min f1 for training\"\n",
        "testing_min_lable = str(k) + \"fold CV Min f1 for testing\"\n",
        "title2= str(k) + \" Fold CV Avg and Min f1 vs max_depth for training data and testing data\"\n",
        "plt.plot(depth, avg_f1_training, label= training_avg_lable)\n",
        "plt.plot(depth, min_f1_training, label= training_min_lable)\n",
        "plt.plot(depth, avg_f1_testing, label= testing_avg_lable)\n",
        "plt.plot(depth, min_f1_testing, label= testing_min_lable)\n",
        "plt.xlabel('max_depth')\n",
        "plt.title(title2)\n",
        "plt.legend()\n",
        "plt.show()"
      ],
      "execution_count": null,
      "outputs": [
        {
          "output_type": "display_data",
          "data": {
            "image/png": "[encoded data removed]",
            "text/plain": [
              "<Figure size 432x288 with 1 Axes>"
            ]
          },
          "metadata": {
            "tags": []
          }
        }
      ]
    },
    {
      "cell_type": "markdown",
      "metadata": {
        "id": "bToCx04eulxW"
      },
      "source": [
        "# Exercise 6 (15 points)\n",
        "Answer the following questions:\n",
        "- (a) What is the best max_depth for breast cancer diagnosis decision tree? Explain the rationale of your answer. (10 points)\n",
        "- (b) In general, if you observe avg f1 does not increase and min f1 decreases as max_depth increases, what does this mean in terms of overfitting risk? (5 points)"
      ]
    },
    {
      "cell_type": "markdown",
      "metadata": {
        "id": "SJQCdYzKw61t"
      },
      "source": [
        "# Answer to Exercise 6 \n",
        "- (a) The best max_depth would be 8 I think. This is where all the data plateaus.\n",
        "- (b) This means overfitting risk goes up."
      ]
    },
    {
      "cell_type": "markdown",
      "metadata": {
        "id": "JaJFM86b8sPG"
      },
      "source": [
        "# Exercise 7 (10 points)\n",
        "Compare the result of using one-time train test split (Lab 7) to choose max_depth versus the result of using Stratified k-fold Cross Validation to choose the max_depth.  What is the benefit of the latter approach?"
      ]
    },
    {
      "cell_type": "markdown",
      "metadata": {
        "id": "BNw18ZYl9afF"
      },
      "source": [
        "# Answer for Exercise 7\n",
        "The latter approach is more accurate. The method used in Lab 7 is easier, but less accurate. Having a range for max depth is easier to establish, but creates a less accurate result.\n"
      ]
    }
  ]
}